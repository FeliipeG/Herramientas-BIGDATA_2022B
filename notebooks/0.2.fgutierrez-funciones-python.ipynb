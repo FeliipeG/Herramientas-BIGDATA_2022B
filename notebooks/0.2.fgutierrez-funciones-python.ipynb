{
 "cells": [
  {
   "cell_type": "markdown",
   "metadata": {},
   "source": [
    "#Funciones en Python"
   ]
  },
  {
   "cell_type": "code",
   "execution_count": 1,
   "metadata": {},
   "outputs": [],
   "source": [
    "# Función f(x,y,z) = x + y + z se escribe en Python de la siguiente manera:\n",
    "\n",
    "def f(x, y, z):\n",
    "    resultado = x + y + z\n",
    "\n",
    "    return resultado"
   ]
  },
  {
   "cell_type": "code",
   "execution_count": 3,
   "metadata": {},
   "outputs": [
    {
     "data": {
      "text/plain": [
       "5"
      ]
     },
     "execution_count": 3,
     "metadata": {},
     "output_type": "execute_result"
    }
   ],
   "source": [
    "f(x=2 , y=3 , z=0)"
   ]
  },
  {
   "cell_type": "code",
   "execution_count": null,
   "metadata": {},
   "outputs": [],
   "source": [
    "*pipeline\n",
    "\n",
    "read_data -->"
   ]
  },
  {
   "cell_type": "markdown",
   "metadata": {},
   "source": [
    "Quiero una funcion que me calcule :\n",
    "1. la suma de todos los numeros de una lista\n",
    "2. minimo valor de la lista\n",
    "3. maximo valor de la lista\n",
    "4. la media y la desviacion estandar"
   ]
  },
  {
   "cell_type": "code",
   "execution_count": 1,
   "metadata": {},
   "outputs": [],
   "source": [
    "def calcular_min_max(lista_numeros, verbose=True):\n",
    "    #Retorna los valores minimo y maximo de una lista de numeros\n",
    "    #Argumentos: \n",
    "    #lista_numeros: type list\n",
    "\n",
    "    min_value = min(lista_numeros)\n",
    "    max_value = max(lista_numeros)\n",
    "\n",
    "    if verbose == True:\n",
    "        print(\"Valor minimo:\",min_value)\n",
    "        print(\"Valor maximo:\",max_value)\n",
    "    else:\n",
    "        pass\n",
    "    return min_value, max_value\n"
   ]
  },
  {
   "cell_type": "code",
   "execution_count": 2,
   "metadata": {},
   "outputs": [],
   "source": [
    "#Calcular la media y la Desviación Estandar:\n",
    "\n",
    "def calcular_valores_centrales(lista_numeros, verbose=True):\n",
    "\n",
    "    import numpy as np\n",
    "\n",
    "    media = np.mean(lista_numeros)\n",
    "    dev_std = np.std(lista_numeros)\n",
    "    if verbose == True:\n",
    "        print(\"Media:\",media)\n",
    "        print(\"Desviación Estandar:\",dev_std)\n",
    "    else:\n",
    "        pass\n",
    "    return media, dev_std\n"
   ]
  },
  {
   "cell_type": "code",
   "execution_count": 26,
   "metadata": {},
   "outputs": [
    {
     "name": "stdout",
     "output_type": "stream",
     "text": [
      "Collecting numpy\n",
      "  Downloading numpy-1.21.6-cp37-cp37m-win_amd64.whl (14.0 MB)\n",
      "Installing collected packages: numpy\n",
      "Successfully installed numpy-1.21.6\n"
     ]
    },
    {
     "name": "stderr",
     "output_type": "stream",
     "text": [
      "WARNING: You are using pip version 20.1.1; however, version 22.2.2 is available.\n",
      "You should consider upgrading via the 'c:\\users\\felipe gutiérrez\\appdata\\local\\programs\\python\\python37\\python.exe -m pip install --upgrade pip' command.\n"
     ]
    }
   ],
   "source": [
    "!pip install numpy"
   ]
  },
  {
   "cell_type": "code",
   "execution_count": 3,
   "metadata": {},
   "outputs": [
    {
     "name": "stdout",
     "output_type": "stream",
     "text": [
      "Valor minimo: 4\n",
      "Valor maximo: 21\n",
      "Media: 9.4\n",
      "Desviación Estandar: 6.086049621881176\n",
      "(4, 21) (9.4, 6.086049621881176)\n"
     ]
    }
   ],
   "source": [
    "lista_Valores = [5,4,8,9,21]\n",
    "\n",
    "test = calcular_min_max(lista_Valores, verbose=True)\n",
    "test2 = calcular_valores_centrales(lista_Valores, verbose=True)\n",
    "print(test, test2)"
   ]
  },
  {
   "cell_type": "code",
   "execution_count": null,
   "metadata": {},
   "outputs": [],
   "source": [
    "calcular_valores(lista_Valores, verbose=True)\n",
    "\n",
    "\n",
    "def calcular_valores(lista_numeros, verbose=True):\n",
    "    \n",
    "    #min(lista_numeros)\n",
    "    #max(lista_numeros)\n",
    "    \n",
    "    #suma = calcular_suma(lista_numeros)\n",
    "    min_val, max_val = calcular_min_max(lista_numeros, verbose)\n",
    "    #min_val = calcular_suma(lista_numeros)\n",
    "    #suma = calcular_suma(lista_numeros)\n",
    "    #return suma, min_val, max_val, media, desv_std"
   ]
  }
 ],
 "metadata": {
  "kernelspec": {
   "display_name": "Python 3.7.9 64-bit (system)",
   "language": "python",
   "name": "python3"
  },
  "language_info": {
   "codemirror_mode": {
    "name": "ipython",
    "version": 3
   },
   "file_extension": ".py",
   "mimetype": "text/x-python",
   "name": "python",
   "nbconvert_exporter": "python",
   "pygments_lexer": "ipython3",
   "version": "3.7.9"
  },
  "orig_nbformat": 4,
  "vscode": {
   "interpreter": {
    "hash": "04c9ca0517c9079ca7f80267b5c64d4aaf8563692e1b19c6ef546372a56bad94"
   }
  }
 },
 "nbformat": 4,
 "nbformat_minor": 2
}

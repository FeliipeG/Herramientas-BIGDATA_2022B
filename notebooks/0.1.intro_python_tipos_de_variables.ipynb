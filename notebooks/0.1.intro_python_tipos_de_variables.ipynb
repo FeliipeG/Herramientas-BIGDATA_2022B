{
 "cells": [
  {
   "cell_type": "markdown",
   "metadata": {},
   "source": [
    "Python 101\n",
    "\n",
    "1. print function\n",
    "2. variables\n",
    "Numericas\n",
    "Flotantes\n",
    "Booleanas\n",
    "Strings\n",
    "3. Loops y Condicionales"
   ]
  },
  {
   "cell_type": "code",
   "execution_count": 1,
   "metadata": {},
   "outputs": [
    {
     "name": "stdout",
     "output_type": "stream",
     "text": [
      "Hola mundo!!!\n"
     ]
    }
   ],
   "source": [
    "\n",
    "print(\"Hola mundo!!!\")  # imprime una cadena de caracteres (string)"
   ]
  },
  {
   "cell_type": "code",
   "execution_count": 2,
   "metadata": {},
   "outputs": [
    {
     "name": "stdout",
     "output_type": "stream",
     "text": [
      "Hola mundo!!!\n"
     ]
    }
   ],
   "source": [
    "frase = \"Hola mundo!!!\"  # Asigno a la variable frase los caracteres Hola mundo!!!\n",
    "print(frase)"
   ]
  },
  {
   "cell_type": "markdown",
   "metadata": {},
   "source": [
    "Tipos de variables"
   ]
  },
  {
   "cell_type": "code",
   "execution_count": 3,
   "metadata": {},
   "outputs": [
    {
     "name": "stdout",
     "output_type": "stream",
     "text": [
      "x es igual a: 5.0\n",
      "y es igual a: 3\n"
     ]
    }
   ],
   "source": [
    "# variables numericas\n",
    "x = 5.0\n",
    "y = 3\n",
    "print(\"x es igual a:\", x)\n",
    "print(\"y es igual a:\", y)"
   ]
  },
  {
   "cell_type": "code",
   "execution_count": 4,
   "metadata": {},
   "outputs": [
    {
     "name": "stdout",
     "output_type": "stream",
     "text": [
      "5.0 es una variable tipo <class 'float'>\n",
      "3 es una variable tipo <class 'int'>\n",
      "Hola mundo!!! es una variable tipo <class 'str'>\n",
      "False es una variable tipo <class 'bool'>\n"
     ]
    }
   ],
   "source": [
    "# Existen las variables enteras (int), flotantes (float), booleanas (bool) y string (str)\n",
    "\n",
    "print(x, \"es una variable tipo\", type(x))\n",
    "print(y, \"es una variable tipo\", type(y))\n",
    "print(frase, \"es una variable tipo\", type(frase))\n",
    "print(False, \"es una variable tipo\", type(False))"
   ]
  },
  {
   "cell_type": "code",
   "execution_count": 5,
   "metadata": {},
   "outputs": [
    {
     "name": "stdout",
     "output_type": "stream",
     "text": [
      "<class 'str'>\n",
      "<class 'int'>\n"
     ]
    }
   ],
   "source": [
    "# Conversion de variables\n",
    "\n",
    "numero = \"355.4\"\n",
    "value = round(float(numero))\n",
    "\n",
    "print(type(numero))\n",
    "print(type(value))"
   ]
  },
  {
   "cell_type": "code",
   "execution_count": 6,
   "metadata": {},
   "outputs": [
    {
     "name": "stdout",
     "output_type": "stream",
     "text": [
      "Suma: 8.0\n",
      "Resta: 2.0\n",
      "Multiplicacion: 15.0\n",
      "Division: 1.6666666666666667\n",
      "Potencia: 125.0\n",
      "Modulo 2.0\n"
     ]
    }
   ],
   "source": [
    "\n",
    "# Operaciones entre variables numericas\n",
    "print(\"Suma:\",           x + y)\n",
    "print(\"Resta:\",          x - y)\n",
    "print(\"Multiplicacion:\", x * y)\n",
    "print(\"Division:\",       x / y)\n",
    "\n",
    "print(\"Potencia:\",       x ** y)\n",
    "print(\"Modulo\",          x % y)"
   ]
  },
  {
   "cell_type": "markdown",
   "metadata": {},
   "source": [
    "Loops (Iteraciones)"
   ]
  },
  {
   "cell_type": "code",
   "execution_count": 7,
   "metadata": {},
   "outputs": [
    {
     "name": "stdout",
     "output_type": "stream",
     "text": [
      "10 No es divisible por 3\n",
      "9\n",
      "8 No es divisible por 3\n",
      "7 No es divisible por 3\n",
      "6\n",
      "5 No es divisible por 3\n",
      "4 No es divisible por 3\n",
      "3\n",
      "2 No es divisible por 3\n",
      "1 No es divisible por 3\n",
      "Termina el loop\n"
     ]
    }
   ],
   "source": [
    "for num in range(10, 0, -1):                        # moviendose sobre una lista de numeros desde 10 hasta 1 de manera descendente\n",
    "    if num % 3 == 0:                                # Es divisible por 3?\n",
    "        print(num)                                  \n",
    "    else:\n",
    "        print(num, \"No es divisible por 3\")\n",
    "\n",
    "print(\"Termina el loop\")"
   ]
  }
 ],
 "metadata": {
  "kernelspec": {
   "display_name": "Python 3.7.9 64-bit (system)",
   "language": "python",
   "name": "python3"
  },
  "language_info": {
   "codemirror_mode": {
    "name": "ipython",
    "version": 3
   },
   "file_extension": ".py",
   "mimetype": "text/x-python",
   "name": "python",
   "nbconvert_exporter": "python",
   "pygments_lexer": "ipython3",
   "version": "3.7.9"
  },
  "orig_nbformat": 4,
  "vscode": {
   "interpreter": {
    "hash": "04c9ca0517c9079ca7f80267b5c64d4aaf8563692e1b19c6ef546372a56bad94"
   }
  }
 },
 "nbformat": 4,
 "nbformat_minor": 2
}

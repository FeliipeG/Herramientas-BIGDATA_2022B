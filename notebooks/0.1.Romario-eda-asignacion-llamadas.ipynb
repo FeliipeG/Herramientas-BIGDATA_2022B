{
 "cells": [
  {
   "cell_type": "code",
   "execution_count": null,
   "metadata": {},
   "outputs": [],
   "source": [
    "# importar librerias de manipulacion de datos\n",
    "import numpy as np\n",
    "import pandas as pd\n",
    "# importar librerias del sistema\n",
    "import os\n",
    "from pathlib import Path\n",
    "# libreria para fechas\n",
    "from dateutil.parser import parse\n"
   ]
  },
  {
   "cell_type": "code",
   "execution_count": 423,
   "metadata": {},
   "outputs": [
    {
     "data": {
      "text/plain": [
       "WindowsPath('C:/Users/romario.silva/Documents/ESEIT/Herramientas y Lenguajes para Big Data/BigData2022B')"
      ]
     },
     "execution_count": 423,
     "metadata": {},
     "output_type": "execute_result"
    }
   ],
   "source": [
    "# Ruta del proyecto\n",
    "root_dir = Path(\".\").resolve().parent\n",
    "root_dir    "
   ]
  },
  {
   "cell_type": "code",
   "execution_count": 425,
   "metadata": {},
   "outputs": [
    {
     "name": "stdout",
     "output_type": "stream",
     "text": [
      "C:\\Users\\romario.silva\\Documents\\ESEIT\\Herramientas y Lenguajes para Big Data\\BigData2022B\\data\\raw\\llamadas123_julio_2022.csv\n"
     ]
    }
   ],
   "source": [
    "# ruta del proyecto\n",
    "#filename = input(\"Ingrese el nombre de archivo: \")\n",
    "filename = \"llamadas123_julio_2022.csv\"\n",
    "data_dir = \"raw\"\n",
    "file_path = os.path.join(root_dir,\"data\",data_dir, filename)\n",
    "print(file_path)\n",
    "\n",
    "# C:\\Users\\romario.silva\\Documents\\ESEIT\\Herramientas y Lenguajes para Big Data\\BigData2022B\\data\\raw"
   ]
  },
  {
   "cell_type": "code",
   "execution_count": 426,
   "metadata": {},
   "outputs": [],
   "source": [
    "# leer archivo\n",
    "#data = pd.read_csv(file_path, encoding=\"latin-1\", sep=\";\")\n",
    "data = pd.read_csv(file_path, encoding=\"latin-1\", sep=\";\")\n",
    "# copia de df original\n",
    "new_data = data.copy()\n"
   ]
  },
  {
   "cell_type": "code",
   "execution_count": 483,
   "metadata": {},
   "outputs": [
    {
     "data": {
      "text/html": [
       "<div>\n",
       "<style scoped>\n",
       "    .dataframe tbody tr th:only-of-type {\n",
       "        vertical-align: middle;\n",
       "    }\n",
       "\n",
       "    .dataframe tbody tr th {\n",
       "        vertical-align: top;\n",
       "    }\n",
       "\n",
       "    .dataframe thead th {\n",
       "        text-align: right;\n",
       "    }\n",
       "</style>\n",
       "<table border=\"1\" class=\"dataframe\">\n",
       "  <thead>\n",
       "    <tr style=\"text-align: right;\">\n",
       "      <th></th>\n",
       "      <th>NUMERO_INCIDENTE</th>\n",
       "      <th>FECHA_INICIO_DESPLAZAMIENTO_MOVIL</th>\n",
       "      <th>CODIGO_LOCALIDAD</th>\n",
       "      <th>LOCALIDAD</th>\n",
       "      <th>EDAD</th>\n",
       "      <th>UNIDAD</th>\n",
       "      <th>GENERO</th>\n",
       "      <th>RED</th>\n",
       "      <th>TIPO_INCIDENTE</th>\n",
       "      <th>PRIORIDAD</th>\n",
       "      <th>RECEPCION</th>\n",
       "    </tr>\n",
       "  </thead>\n",
       "  <tbody>\n",
       "    <tr>\n",
       "      <th>0</th>\n",
       "      <td>CRU-00278353-22</td>\n",
       "      <td>2022-07-01 00:08:59</td>\n",
       "      <td>11</td>\n",
       "      <td>Suba</td>\n",
       "      <td>88</td>\n",
       "      <td>Años</td>\n",
       "      <td>FEMENINO</td>\n",
       "      <td>Norte</td>\n",
       "      <td>Accidente Cerebro Vascular</td>\n",
       "      <td>ALTA</td>\n",
       "      <td>2022-07-01 03:40:13</td>\n",
       "    </tr>\n",
       "    <tr>\n",
       "      <th>1</th>\n",
       "      <td>CRU-00278360-22</td>\n",
       "      <td>2022-07-01 00:14:58</td>\n",
       "      <td>11</td>\n",
       "      <td>Suba</td>\n",
       "      <td>16</td>\n",
       "      <td>Años</td>\n",
       "      <td>MASCULINO</td>\n",
       "      <td>Norte</td>\n",
       "      <td>Herido</td>\n",
       "      <td>ALTA</td>\n",
       "      <td>2022-07-01 03:38:13</td>\n",
       "    </tr>\n",
       "    <tr>\n",
       "      <th>2</th>\n",
       "      <td>CRU-00278365-22</td>\n",
       "      <td>2022-07-01 00:21:59</td>\n",
       "      <td>18</td>\n",
       "      <td>Rafael Uribe Uribe</td>\n",
       "      <td>52</td>\n",
       "      <td>Años</td>\n",
       "      <td>FEMENINO</td>\n",
       "      <td>Centro Oriente</td>\n",
       "      <td>Evento Respiratorio</td>\n",
       "      <td>CRITICA</td>\n",
       "      <td>2022-07-01 04:08:24</td>\n",
       "    </tr>\n",
       "    <tr>\n",
       "      <th>3</th>\n",
       "      <td>CRU-00278370-22</td>\n",
       "      <td>2022-07-01 00:38:38</td>\n",
       "      <td>19</td>\n",
       "      <td>Ciudad Bolívar</td>\n",
       "      <td>0</td>\n",
       "      <td>NaN</td>\n",
       "      <td>NaN</td>\n",
       "      <td>Privada</td>\n",
       "      <td>Herido</td>\n",
       "      <td>ALTA</td>\n",
       "      <td>NaT</td>\n",
       "    </tr>\n",
       "    <tr>\n",
       "      <th>4</th>\n",
       "      <td>CRU-00278372-22</td>\n",
       "      <td>2022-07-01 00:53:32</td>\n",
       "      <td>1</td>\n",
       "      <td>Usaquén</td>\n",
       "      <td>33</td>\n",
       "      <td>Años</td>\n",
       "      <td>MASCULINO</td>\n",
       "      <td>Norte</td>\n",
       "      <td>Intento de Suicidio</td>\n",
       "      <td>ALTA</td>\n",
       "      <td>2022-07-01 03:25:29</td>\n",
       "    </tr>\n",
       "    <tr>\n",
       "      <th>...</th>\n",
       "      <td>...</td>\n",
       "      <td>...</td>\n",
       "      <td>...</td>\n",
       "      <td>...</td>\n",
       "      <td>...</td>\n",
       "      <td>...</td>\n",
       "      <td>...</td>\n",
       "      <td>...</td>\n",
       "      <td>...</td>\n",
       "      <td>...</td>\n",
       "      <td>...</td>\n",
       "    </tr>\n",
       "    <tr>\n",
       "      <th>95</th>\n",
       "      <td>CRU-00278619-22</td>\n",
       "      <td>2022-07-01 08:25:28</td>\n",
       "      <td>7</td>\n",
       "      <td>Bosa</td>\n",
       "      <td>26</td>\n",
       "      <td>Años</td>\n",
       "      <td>MASCULINO</td>\n",
       "      <td>Sur Occidente</td>\n",
       "      <td>Trastorno Mental</td>\n",
       "      <td>MEDIA</td>\n",
       "      <td>2022-07-01 12:52:33</td>\n",
       "    </tr>\n",
       "    <tr>\n",
       "      <th>96</th>\n",
       "      <td>CRU-00278642-22</td>\n",
       "      <td>2022-07-01 08:25:30</td>\n",
       "      <td>11</td>\n",
       "      <td>Suba</td>\n",
       "      <td>0</td>\n",
       "      <td>NaN</td>\n",
       "      <td>NaN</td>\n",
       "      <td>Norte</td>\n",
       "      <td>Inconsciente / Paro cardiorespiratorio</td>\n",
       "      <td>CRITICA</td>\n",
       "      <td>NaT</td>\n",
       "    </tr>\n",
       "    <tr>\n",
       "      <th>97</th>\n",
       "      <td>CRU-00278642-22</td>\n",
       "      <td>2022-07-01 08:25:30</td>\n",
       "      <td>11</td>\n",
       "      <td>Suba</td>\n",
       "      <td>33</td>\n",
       "      <td>Años</td>\n",
       "      <td>FEMENINO</td>\n",
       "      <td>Norte</td>\n",
       "      <td>Inconsciente / Paro cardiorespiratorio</td>\n",
       "      <td>CRITICA</td>\n",
       "      <td>NaT</td>\n",
       "    </tr>\n",
       "    <tr>\n",
       "      <th>98</th>\n",
       "      <td>CRU-00278637-22</td>\n",
       "      <td>2022-07-01 08:26:43</td>\n",
       "      <td>14</td>\n",
       "      <td>Los Mártires</td>\n",
       "      <td>78</td>\n",
       "      <td>Años</td>\n",
       "      <td>MASCULINO</td>\n",
       "      <td>Sur Occidente</td>\n",
       "      <td>Inconsciente / Paro cardiorespiratorio</td>\n",
       "      <td>CRITICA</td>\n",
       "      <td>NaT</td>\n",
       "    </tr>\n",
       "    <tr>\n",
       "      <th>99</th>\n",
       "      <td>CRU-00278632-22</td>\n",
       "      <td>2022-07-01 08:28:11</td>\n",
       "      <td>16</td>\n",
       "      <td>Puente Aranda</td>\n",
       "      <td>0</td>\n",
       "      <td>NaN</td>\n",
       "      <td>NaN</td>\n",
       "      <td>Norte</td>\n",
       "      <td>Trastorno Mental</td>\n",
       "      <td>ALTA</td>\n",
       "      <td>NaT</td>\n",
       "    </tr>\n",
       "  </tbody>\n",
       "</table>\n",
       "<p>100 rows × 11 columns</p>\n",
       "</div>"
      ],
      "text/plain": [
       "   NUMERO_INCIDENTE FECHA_INICIO_DESPLAZAMIENTO_MOVIL  CODIGO_LOCALIDAD  \\\n",
       "0   CRU-00278353-22               2022-07-01 00:08:59                11   \n",
       "1   CRU-00278360-22               2022-07-01 00:14:58                11   \n",
       "2   CRU-00278365-22               2022-07-01 00:21:59                18   \n",
       "3   CRU-00278370-22               2022-07-01 00:38:38                19   \n",
       "4   CRU-00278372-22               2022-07-01 00:53:32                 1   \n",
       "..              ...                               ...               ...   \n",
       "95  CRU-00278619-22               2022-07-01 08:25:28                 7   \n",
       "96  CRU-00278642-22               2022-07-01 08:25:30                11   \n",
       "97  CRU-00278642-22               2022-07-01 08:25:30                11   \n",
       "98  CRU-00278637-22               2022-07-01 08:26:43                14   \n",
       "99  CRU-00278632-22               2022-07-01 08:28:11                16   \n",
       "\n",
       "             LOCALIDAD  EDAD UNIDAD     GENERO             RED  \\\n",
       "0                 Suba    88   Años   FEMENINO           Norte   \n",
       "1                 Suba    16   Años  MASCULINO           Norte   \n",
       "2   Rafael Uribe Uribe    52   Años   FEMENINO  Centro Oriente   \n",
       "3       Ciudad Bolívar     0    NaN        NaN         Privada   \n",
       "4              Usaquén    33   Años  MASCULINO           Norte   \n",
       "..                 ...   ...    ...        ...             ...   \n",
       "95                Bosa    26   Años  MASCULINO   Sur Occidente   \n",
       "96                Suba     0    NaN        NaN           Norte   \n",
       "97                Suba    33   Años   FEMENINO           Norte   \n",
       "98        Los Mártires    78   Años  MASCULINO   Sur Occidente   \n",
       "99       Puente Aranda     0    NaN        NaN           Norte   \n",
       "\n",
       "                            TIPO_INCIDENTE PRIORIDAD           RECEPCION  \n",
       "0               Accidente Cerebro Vascular      ALTA 2022-07-01 03:40:13  \n",
       "1                                   Herido      ALTA 2022-07-01 03:38:13  \n",
       "2                      Evento Respiratorio   CRITICA 2022-07-01 04:08:24  \n",
       "3                                   Herido      ALTA                 NaT  \n",
       "4                      Intento de Suicidio      ALTA 2022-07-01 03:25:29  \n",
       "..                                     ...       ...                 ...  \n",
       "95                        Trastorno Mental     MEDIA 2022-07-01 12:52:33  \n",
       "96  Inconsciente / Paro cardiorespiratorio   CRITICA                 NaT  \n",
       "97  Inconsciente / Paro cardiorespiratorio   CRITICA                 NaT  \n",
       "98  Inconsciente / Paro cardiorespiratorio   CRITICA                 NaT  \n",
       "99                        Trastorno Mental      ALTA                 NaT  \n",
       "\n",
       "[100 rows x 11 columns]"
      ]
     },
     "execution_count": 483,
     "metadata": {},
     "output_type": "execute_result"
    }
   ],
   "source": [
    "# mostrar primeras filas\n",
    "new_data.head(100)"
   ]
  },
  {
   "cell_type": "code",
   "execution_count": 484,
   "metadata": {},
   "outputs": [
    {
     "name": "stdout",
     "output_type": "stream",
     "text": [
      "<class 'pandas.core.frame.DataFrame'>\n",
      "RangeIndex: 13026 entries, 0 to 13025\n",
      "Data columns (total 11 columns):\n",
      " #   Column                             Non-Null Count  Dtype         \n",
      "---  ------                             --------------  -----         \n",
      " 0   NUMERO_INCIDENTE                   13026 non-null  object        \n",
      " 1   FECHA_INICIO_DESPLAZAMIENTO_MOVIL  13025 non-null  datetime64[ns]\n",
      " 2   CODIGO_LOCALIDAD                   13026 non-null  int64         \n",
      " 3   LOCALIDAD                          13026 non-null  object        \n",
      " 4   EDAD                               13026 non-null  int64         \n",
      " 5   UNIDAD                             6831 non-null   object        \n",
      " 6   GENERO                             6839 non-null   object        \n",
      " 7   RED                                13026 non-null  object        \n",
      " 8   TIPO_INCIDENTE                     13026 non-null  object        \n",
      " 9   PRIORIDAD                          13026 non-null  object        \n",
      " 10  RECEPCION                          5259 non-null   datetime64[ns]\n",
      "dtypes: datetime64[ns](2), int64(2), object(7)\n",
      "memory usage: 1.1+ MB\n"
     ]
    }
   ],
   "source": [
    "# ver df\n",
    "new_data.info()"
   ]
  },
  {
   "cell_type": "code",
   "execution_count": 464,
   "metadata": {},
   "outputs": [
    {
     "data": {
      "text/plain": [
       "Herido                                    3324\n",
       "Inconsciente / Paro cardiorespiratorio    1836\n",
       "Evento Respiratorio                       1703\n",
       "Convulsi¢n                                1177\n",
       "Enfermo                                    828\n",
       "Trastorno Mental                           758\n",
       "Dolor Tor cico                             705\n",
       "Intento de Suicidio                        674\n",
       "Accidente Cerebro Vascular                 391\n",
       "S¡ntomas Gastrointestinales                377\n",
       "Ca¡da de Altura                            312\n",
       "Patolog¡a Ginecobsttrica                  275\n",
       "Intoxicaci¢n                               253\n",
       "Amenaza de Suicidio                        148\n",
       "Acompa¤amiento Evento                       99\n",
       "Violencia Sexual                            69\n",
       "Maltrato                                    38\n",
       "Electrocuci¢n / rescate                     18\n",
       "Sangrado Vaginal                            18\n",
       "Quemaduras                                  12\n",
       "Solicitud de Apoyo                          11\n",
       "Name: TIPO_INCIDENTE, dtype: int64"
      ]
     },
     "execution_count": 464,
     "metadata": {},
     "output_type": "execute_result"
    }
   ],
   "source": [
    "new_data[\"TIPO_INCIDENTE\"].value_counts(dropna=False)"
   ]
  },
  {
   "cell_type": "code",
   "execution_count": 448,
   "metadata": {},
   "outputs": [
    {
     "data": {
      "text/plain": [
       "0                      Suba\n",
       "1                      Suba\n",
       "2        Rafael Uribe Uribe\n",
       "3            Ciudad Bol¡var\n",
       "4                   Usaqun\n",
       "                ...        \n",
       "13021          Los M rtires\n",
       "13022          Los M rtires\n",
       "13023              Engativ \n",
       "13024              Engativ \n",
       "13025              Fontib¢n\n",
       "Name: LOCALIDAD, Length: 13026, dtype: object"
      ]
     },
     "execution_count": 448,
     "metadata": {},
     "output_type": "execute_result"
    }
   ],
   "source": [
    "# valores por columna\n",
    "new_data[\"TIPO_INCIDENTE\"]"
   ]
  },
  {
   "cell_type": "code",
   "execution_count": 430,
   "metadata": {},
   "outputs": [
    {
     "name": "stdout",
     "output_type": "stream",
     "text": [
      "filas y columnas (13055, 11)\n",
      "filas y columnas sin duplicados (13026, 11)\n"
     ]
    }
   ],
   "source": [
    "# Eliminar los registros duplicados, dejando solo el primer registro\n",
    "print(\"filas y columnas\", new_data.shape)\n",
    "new_data = new_data.drop_duplicates()\n",
    "print(\"filas y columnas sin duplicados\", new_data.shape) \n",
    "# resetear indices de la tabla\n",
    "new_data = new_data.reset_index(drop=True) "
   ]
  },
  {
   "cell_type": "code",
   "execution_count": 432,
   "metadata": {},
   "outputs": [],
   "source": [
    "def str_to_datetime(value_str):\n",
    "    try:\n",
    "        var_datetime2 = parse(value_str, dayfirst=False)\n",
    "        var_datetime = pd.to_datetime(var_datetime2)\n",
    "    except Exception as e:\n",
    "        #print(value_str, e)\n",
    "        var_datetime = np.nan\n",
    "    return var_datetime\n",
    "        "
   ]
  },
  {
   "cell_type": "code",
   "execution_count": 433,
   "metadata": {},
   "outputs": [
    {
     "data": {
      "text/plain": [
       "0       2022-07-01 00:08:59\n",
       "1       2022-07-01 00:14:58\n",
       "2       2022-07-01 00:21:59\n",
       "3       2022-07-01 00:38:38\n",
       "4       2022-07-01 00:53:32\n",
       "                ...        \n",
       "13021   2022-08-08 05:31:48\n",
       "13022   2022-08-08 10:38:32\n",
       "13023   2022-08-08 11:23:01\n",
       "13024   2022-08-08 11:23:01\n",
       "13025                   NaT\n",
       "Name: FECHA_INICIO_DESPLAZAMIENTO_MOVIL, Length: 13026, dtype: datetime64[ns]"
      ]
     },
     "execution_count": 433,
     "metadata": {},
     "output_type": "execute_result"
    }
   ],
   "source": [
    "# iterar por cada registro para convertir a datetime Campo FECHA_INICIO_DESPLAZAMIENTO_MOVIL\n",
    "\n",
    "fecha_ini_despl_movil = new_data[\"FECHA_INICIO_DESPLAZAMIENTO_MOVIL\"]\n",
    "list_fecha_ini_despl_movil = list()\n",
    "\n",
    "for i in range(0,len(fecha_ini_despl_movil)):\n",
    "    result_ini_despl_movil = str_to_datetime(fecha_ini_despl_movil[i])\n",
    "    list_fecha_ini_despl_movil.append(result_ini_despl_movil)\n",
    "    \n",
    "new_data[\"FECHA_INICIO_DESPLAZAMIENTO_MOVIL\"] = list_fecha_ini_despl_movil\n",
    "new_data[\"FECHA_INICIO_DESPLAZAMIENTO_MOVIL\"]\n"
   ]
  },
  {
   "cell_type": "code",
   "execution_count": 434,
   "metadata": {},
   "outputs": [
    {
     "data": {
      "text/plain": [
       "0       2022-07-01 03:40:13\n",
       "1       2022-07-01 03:38:13\n",
       "2       2022-07-01 04:08:24\n",
       "3                       NaT\n",
       "4       2022-07-01 03:25:29\n",
       "                ...        \n",
       "13021   2022-08-08 06:48:00\n",
       "13022                   NaT\n",
       "13023   2022-09-08 13:13:00\n",
       "13024                   NaT\n",
       "13025                   NaT\n",
       "Name: RECEPCION, Length: 13026, dtype: datetime64[ns]"
      ]
     },
     "execution_count": 434,
     "metadata": {},
     "output_type": "execute_result"
    }
   ],
   "source": [
    "# iterar por cada registro para convertir a datetime Campo RECEPCION\n",
    "\n",
    "fecha_recepcion = new_data[\"RECEPCION\"]\n",
    "list_fecha_recepcion = list()\n",
    "\n",
    "for i in range(0,len(fecha_recepcion)):\n",
    "    result_fecha_recepcion = str_to_datetime(fecha_recepcion[i])\n",
    "    list_fecha_recepcion.append(result_fecha_recepcion)\n",
    "    \n",
    "\n",
    "new_data[\"RECEPCION\"] = list_fecha_recepcion\n",
    "new_data[\"RECEPCION\"]"
   ]
  },
  {
   "cell_type": "code",
   "execution_count": 435,
   "metadata": {},
   "outputs": [
    {
     "data": {
      "text/plain": [
       "0        88\n",
       "1        16\n",
       "2        52\n",
       "3         0\n",
       "4        33\n",
       "         ..\n",
       "13021    18\n",
       "13022     0\n",
       "13023    11\n",
       "13024    19\n",
       "13025     0\n",
       "Name: EDAD, Length: 13026, dtype: int64"
      ]
     },
     "execution_count": 435,
     "metadata": {},
     "output_type": "execute_result"
    }
   ],
   "source": [
    "\n",
    "# remplazar valor SIN_DATA a 0\n",
    "new_data[\"EDAD\"]  = new_data[\"EDAD\"].replace({\"SIN_DATO\": 0})\n",
    "# convertir columna a int64\n",
    "new_data = new_data.astype({\"EDAD\":'int64'},errors = 'ignore') \n",
    "# ver columna\n",
    "new_data[\"EDAD\"] "
   ]
  },
  {
   "cell_type": "code",
   "execution_count": 436,
   "metadata": {},
   "outputs": [
    {
     "data": {
      "text/plain": [
       "A¤os     6781\n",
       "NaN      6195\n",
       "Meses      39\n",
       "Horas       6\n",
       "Dias        5\n",
       "Name: UNIDAD, dtype: int64"
      ]
     },
     "execution_count": 436,
     "metadata": {},
     "output_type": "execute_result"
    }
   ],
   "source": [
    "# remplazar valor SIN_DATA a Null\n",
    "new_data[\"GENERO\"]  = new_data[\"GENERO\"].replace({\"SIN_DATO\": np.nan}) \n",
    "new_data[\"UNIDAD\"]  = new_data[\"UNIDAD\"].replace({\"SIN_DATO\": np.nan}) \n",
    "\n",
    "\n",
    "new_data[\"UNIDAD\"].value_counts(dropna=False)"
   ]
  },
  {
   "cell_type": "code",
   "execution_count": 482,
   "metadata": {},
   "outputs": [
    {
     "data": {
      "text/plain": [
       "Kennedy               1740\n",
       "Suba                  1323\n",
       "Engativá              1304\n",
       "Bosa                  1065\n",
       "Ciudad Bolívar        1009\n",
       "Puente Aranda          742\n",
       "Fontibón               670\n",
       "Usaquén                667\n",
       "Rafael Uribe Uribe     601\n",
       "Usme                   597\n",
       "San Cristóbal          595\n",
       "Chapinero              507\n",
       "Tunjuelito             391\n",
       "Barrios Unidos         389\n",
       "Los Mártires           379\n",
       "Teusaquillo            361\n",
       "Santa Fe               356\n",
       "Antonio Nariño         244\n",
       "La Candelaria           85\n",
       "Sumapaz                  1\n",
       "Name: LOCALIDAD, dtype: int64"
      ]
     },
     "execution_count": 482,
     "metadata": {},
     "output_type": "execute_result"
    }
   ],
   "source": [
    "# Remplazar Caracter especial por palabra\n",
    "new_data[\"UNIDAD\"]  = new_data[\"UNIDAD\"].replace({\"A¤os\": \"Años\"}) \n",
    "new_data[\"TIPO_INCIDENTE\"]  = new_data[\"TIPO_INCIDENTE\"].replace({\"Convulsi¢n\": \"Convulsión\",\"Dolor Tor cico\": \"Dolor Torácico\",\"S¡ntomas Gastrointestinales\": \"Sintomas Gastrointestinales\",\"Ca¡da de Altura\": \"Caida de Altura\",\"Patolog¡a Ginecobsttrica\": \"Patologia Gineco Obstétrica\",\"Intoxicaci¢n\": \"Intoxicación\",\"Acompa¤amiento Evento\": \"Acompañamiento Evento\",\"Electrocuci¢n / rescate\": \"Electrocución / rescate\"}) \n",
    "new_data[\"LOCALIDAD\"]  = new_data[\"LOCALIDAD\"].replace({\"Engativ \": \"Engativá\",\"Ciudad Bol¡var\": \"Ciudad Bolívar\",\"Fontib¢n\": \"Fontibón\",\"Usaqun\": \"Usaquén\",\"San Crist¢bal\": \"San Cristóbal\",\"Los M rtires\": \"Los Mártires\",\"Antonio Nari¤o\": \"Antonio Nariño\"}) \n",
    "new_data[\"LOCALIDAD\"].value_counts()"
   ]
  }
 ],
 "metadata": {
  "kernelspec": {
   "display_name": "Python 3.7.8 64-bit",
   "language": "python",
   "name": "python3"
  },
  "language_info": {
   "codemirror_mode": {
    "name": "ipython",
    "version": 3
   },
   "file_extension": ".py",
   "mimetype": "text/x-python",
   "name": "python",
   "nbconvert_exporter": "python",
   "pygments_lexer": "ipython3",
   "version": "3.7.8"
  },
  "orig_nbformat": 4,
  "vscode": {
   "interpreter": {
    "hash": "2f6defbfc3c15cccc989cbb68d9618b4eb140ad0fb44c97aa37ace8d8a6d2c2b"
   }
  }
 },
 "nbformat": 4,
 "nbformat_minor": 2
}
